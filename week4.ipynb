{
 "cells": [
  {
   "cell_type": "markdown",
   "metadata": {},
   "source": [
    "During week four we starting diving into classification algorithms. We started with the k-nearest neighbors classifier, moved into logistic regression, and finished up with support vector machines. We also dove more deelpy into the mathematics behind loss functions, went deeper into cross validation, and got into the mathematics behind gradient descent. We also got more structured in how we are writing out Python modules."
   ]
  },
  {
   "cell_type": "markdown",
   "metadata": {},
   "source": [
    "The week culminated with a full-day linear regression case study. This was a tough one because the data did not particularly lend itself to linear regression and it was very messy. Nonetheless, we got some good work done and leaned a lot. Take a look at the linear regression case study notebook for more info. This was a team project and I owe a great dept of thanks for my outstanding team members."
   ]
  },
  {
   "cell_type": "markdown",
   "metadata": {},
   "source": [
    "Here a rundown of what we covered:\n",
    "\n",
    "* K-nearest-neighbors\n",
    " * Euclidean distance\n",
    " * Cosine similarity\n",
    " * Curse of dimensionality\n",
    "* Regularization and scaling\n",
    "* Logistic Regression\n",
    " * Hard vs soft classifiers\n",
    " * MLE and log likelihood\n",
    " * Log odds\n",
    "* Gradient Descent\n",
    " * Feature scaling\n",
    " * Stochastic gradient descent\n",
    "* ROC and Profit curves\n",
    " * Confusion matrices\n",
    " * Accuracy/Precision/Recall/F-score\n",
    " * Imbalanced classes\n",
    " * Over/under sampling\n",
    " * SMOTE\n",
    "* Support vector machines\n",
    " * Kernal types\n",
    " * Hyperparameters C and gamma\n",
    " * Grid search"
   ]
  },
  {
   "cell_type": "code",
   "execution_count": null,
   "metadata": {},
   "outputs": [],
   "source": []
  }
 ],
 "metadata": {
  "kernelspec": {
   "display_name": "Python 3",
   "language": "python",
   "name": "python3"
  },
  "language_info": {
   "codemirror_mode": {
    "name": "ipython",
    "version": 3
   },
   "file_extension": ".py",
   "mimetype": "text/x-python",
   "name": "python",
   "nbconvert_exporter": "python",
   "pygments_lexer": "ipython3",
   "version": "3.6.6"
  }
 },
 "nbformat": 4,
 "nbformat_minor": 2
}
