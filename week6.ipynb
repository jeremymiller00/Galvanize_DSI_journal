{
 "cells": [
  {
   "cell_type": "markdown",
   "metadata": {},
   "source": [
    "# Week 6"
   ]
  },
  {
   "cell_type": "markdown",
   "metadata": {},
   "source": [
    "Week 6 took us into some deeper and more complicated topcis (can you believe it?). The list below is short, but each topic is dense and requires a lot of work to get into."
   ]
  },
  {
   "cell_type": "markdown",
   "metadata": {},
   "source": [
    "Topice covered:  \n",
    "\n",
    "* Non-negative Matrix factorization\n",
    "* Dimensionality Reduction\n",
    "* Spark and SparkML\n",
    "* Recommender Systems"
   ]
  },
  {
   "cell_type": "markdown",
   "metadata": {},
   "source": [
    "We also had a presentation from Splice Machine, and company that delivers an end-to-end database and machine learning platform. It's a great product, and will become mmore common in the future. The platform uses SparkML, which I need to work with more so I an be better wit it. We also had a recommender case study, which gave me a whole new respect for recommender systems. They're hard to get right!"
   ]
  },
  {
   "cell_type": "markdown",
   "metadata": {},
   "source": [
    "Some code:"
   ]
  },
  {
   "cell_type": "markdown",
   "metadata": {},
   "source": [
    "```python\n",
    "from sklearn.datasets import load_digits\n",
    "import matplotlib.pyplot as plt\n",
    "from sklearn.preprocessing import StandardScaler\n",
    "from sklearn.decomposition import PCA\n",
    "import numpy as np\n",
    "from scree_plot import scree_plot\n",
    "from plot_mnist import plot_mnist_embedding\n",
    "import pandas as pd\n",
    "\n",
    "digits = load_digits(n_class=6, return_X_y=True)\n",
    "\n",
    "digits_data = digits[0]\n",
    "\n",
    "digits_for_display = digits_data.reshape(8664, 8)\n",
    "\n",
    "fig, ax = plt.subplots()\n",
    "\n",
    "# for i, image in enumerate(images):\n",
    "    \n",
    "# ax.imshow(digits.images[100]) \n",
    "# ax.set_xticks([])\n",
    "# ax.set_yticks([])\n",
    "# ax.axis('off')\n",
    "\n",
    "scalar = StandardScaler()\n",
    "digits_data = scalar.fit_transform(digits_data)\n",
    "pca = PCA(n_components=10)\n",
    "digits_data_fit = pca.fit_transform(digits_data)\n",
    "\n",
    "fig, ax = plt.subplots()\n",
    "scree_plot(ax, pca)\n",
    "first_two = digits_data_fit[:,:2]\n",
    "first_two\n",
    "\n",
    "fig, ax = plt.subplots(figsize=(12,10))\n",
    "plot_mnist_embedding(ax, first_two, digits[1])\n",
    "\n",
    "\n",
    "# ## Part two: cars\n",
    "cars = pd.read_table('data/cars.tsv', header=None)\n",
    "\n",
    "new_df = pd.concat([pd.DataFrame(cars.iloc[:,0].str.split().tolist()),\n",
    "                     pd.DataFrame(cars.iloc[:,1])], axis=1, ignore_index=True)\n",
    "\n",
    "new_df.drop(8, axis=1, inplace=True)\n",
    "\n",
    "new_df.columns = ['mpg', 'cylinders','displacement','horsepower','weight','acceleration','model_year', 'origin']\n",
    "\n",
    "float_df = new_df.convert_objects(convert_numeric=True)\n",
    "\n",
    "X = float_df.drop(['mpg', 'origin'], axis=1)\n",
    "y = float_df['mpg']\n",
    "\n",
    "avg_hp = X['horsepower'].dropna().mean()\n",
    "\n",
    "X['horsepower'].fillna(value=avg_hp, inplace=True)\n",
    "\n",
    "pca_cars = PCA(n_components=2)\n",
    "\n",
    "fit_cars = pca_cars.fit_transform(X)\n",
    "\n",
    "fig, ax = plt.subplots(figsize=(12,10))\n",
    "scree_plot(ax, pca_cars, n_components_to_plot=2)\n",
    "\n",
    "fig, ax = plt.subplots(figsize=(12,10))\n",
    "plot_mnist_embedding(ax, fit_cars, y)\n",
    "\n",
    "import statsmodels.api as sm\n",
    "from sklearn.model_selection import train_test_split\n",
    "\n",
    "X = sm.add_constant(X)\n",
    "X_train, X_test, y_train, y_test = train_test_split(X, y, test_size=0.33, random_state=42)\n",
    "\n",
    "lmodel = OLS(y_train, X_train)\n",
    "results = lmodel.fit()\n",
    "results.summary()\n",
    "\n",
    "\n",
    "```"
   ]
  },
  {
   "cell_type": "code",
   "execution_count": null,
   "metadata": {},
   "outputs": [],
   "source": []
  }
 ],
 "metadata": {
  "kernelspec": {
   "display_name": "Python 3",
   "language": "python",
   "name": "python3"
  },
  "language_info": {
   "codemirror_mode": {
    "name": "ipython",
    "version": 3
   },
   "file_extension": ".py",
   "mimetype": "text/x-python",
   "name": "python",
   "nbconvert_exporter": "python",
   "pygments_lexer": "ipython3",
   "version": "3.6.6"
  }
 },
 "nbformat": 4,
 "nbformat_minor": 2
}
